{
 "cells": [
  {
   "cell_type": "markdown",
   "metadata": {
    "deletable": false,
    "editable": false,
    "nbgrader": {
     "cell_type": "markdown",
     "checksum": "6bd1e852bc5bfa087a690910faa89692",
     "grade": false,
     "grade_id": "cell-4032520520158264",
     "locked": true,
     "schema_version": 3,
     "solution": false,
     "task": false
    }
   },
   "source": [
    "# 1) List five things you learned in the first two weeks of classes. Explain."
   ]
  },
  {
   "cell_type": "markdown",
   "metadata": {
    "deletable": false,
    "nbgrader": {
     "cell_type": "markdown",
     "checksum": "37de27048b61df58cb561124357f3ec7",
     "grade": true,
     "grade_id": "cell-8276d17f6481481b",
     "locked": false,
     "points": 5,
     "schema_version": 3,
     "solution": true,
     "task": false
    }
   },
   "source": [
    "YOUR ANSWER HERE"
   ]
  },
  {
   "cell_type": "markdown",
   "metadata": {
    "deletable": false,
    "editable": false,
    "nbgrader": {
     "cell_type": "markdown",
     "checksum": "ff23bc2b2647306acd21e81dfef29b75",
     "grade": false,
     "grade_id": "cell-a33c1423b4feb024",
     "locked": true,
     "schema_version": 3,
     "solution": false,
     "task": false
    }
   },
   "source": [
    "# 2) What is the difference between the uniform distribution and the gaussian distribution?"
   ]
  },
  {
   "cell_type": "markdown",
   "metadata": {
    "deletable": false,
    "nbgrader": {
     "cell_type": "markdown",
     "checksum": "5af7eb5972fed325be7136e049d5c1b1",
     "grade": true,
     "grade_id": "cell-00ab8776be9b4391",
     "locked": false,
     "points": 2,
     "schema_version": 3,
     "solution": true,
     "task": false
    }
   },
   "source": [
    "YOUR ANSWER HERE"
   ]
  },
  {
   "cell_type": "markdown",
   "metadata": {
    "deletable": false,
    "editable": false,
    "nbgrader": {
     "cell_type": "markdown",
     "checksum": "f7e9060468737e1f24aa837a9272d894",
     "grade": false,
     "grade_id": "cell-4965f60d6a038a7b",
     "locked": true,
     "schema_version": 3,
     "solution": false,
     "task": false
    }
   },
   "source": [
    "# 3) Let's plot the two dimensional bivariate Gaussian distribution\n",
    "The general formula for the two dimensional [bivariate Gaussian distribution](https://en.wikipedia.org/wiki/Multivariate_normal_distribution) is:\n",
    "$$g(x,y)=\\frac{1}{\\sqrt{(2\\pi)^2\\det\\begin{pmatrix}\\sigma_1^2&\\rho\\sigma_1\\sigma_2\\\\\\rho\\sigma_1\\sigma_2&\\sigma_2^2\\end{pmatrix}}}e^-\\left\\{{\\frac{1}{2}\\begin{pmatrix} x-\\mu_1& y-\\mu_2\\end{pmatrix}\\begin{pmatrix}\\sigma_1^2&\\rho\\sigma_1\\sigma_2\\\\\\rho\\sigma_1\\sigma_2&\\sigma_2^2\\end{pmatrix}^{-1}\\begin{pmatrix}x-\\mu_1\\\\y-\\mu_2\\end{pmatrix}}\\right\\}$$\n",
    "\n",
    "This can be compacted into \n",
    "$$g(x,y)=\\frac{1}{\\sqrt{(2\\pi)^2\\det(\\Sigma)}}e^-\\left\\{{\\frac{1}{2}(u-\\mu)^T\\Sigma^{-1}(u-\\mu)}\\right\\}$$\n",
    "\n",
    "Compare the above formula to the one dimensional Gaussian distribution function:\n",
    "$$g(x)=\\frac{1}{\\sqrt{2\\pi\\sigma^2}}e^{-\\frac{(x-\\mu)^2}{2\\sigma^2}}$$\n",
    "\n",
    "- When there is only one random variable you only have one mean $\\mu$ and one standard deviation $\\sigma$.\n",
    "\n",
    "- When there are two random variables, you have two means $\\begin{pmatrix}\\mu_1\\\\\\mu_2\\end{pmatrix}$, two standard deviations $\\begin{pmatrix}\\sigma_1\\\\\\sigma_2\\end{pmatrix}$, and the product $\\sigma^2$ will be replaced by the covariance matrix $\\Sigma=\\begin{pmatrix}\\sigma_1^2&\\rho\\sigma_1\\sigma_2\\\\\\rho\\sigma_1\\sigma_2&\\sigma_2^2\\end{pmatrix}$ and its determinant. Here, $\\rho$ is the correlation between the two random variables.\n",
    "\n",
    "The following code plots the bivariate normal distribution. Read the code carefully then explain it step by step in the follwing cell."
   ]
  },
  {
   "cell_type": "code",
   "execution_count": null,
   "metadata": {
    "deletable": false,
    "editable": false,
    "nbgrader": {
     "cell_type": "code",
     "checksum": "663f96206d50b4385c60332f35c6b8a5",
     "grade": false,
     "grade_id": "cell-f50bb0fa64029f16",
     "locked": true,
     "schema_version": 3,
     "solution": false,
     "task": false
    }
   },
   "outputs": [],
   "source": [
    "import numpy as np\n",
    "import matplotlib.pyplot as plt\n",
    "from matplotlib import cm\n",
    "from mpl_toolkits import mplot3d\n",
    "\n",
    "# Our 2-dimensional distribution will be over variables X and Y\n",
    "n = 60 # number of grid points on each axis\n",
    "X = np.linspace(-6, 6, n)\n",
    "Y = np.linspace(-6, 6, n)\n",
    "X, Y = np.meshgrid(X, Y)\n",
    "\n",
    "\n",
    "# Mean vector and covariance matrix\n",
    "mu_1=0\n",
    "mu_2=0\n",
    "\n",
    "mu = np.array([mu_1, mu_2])\n",
    "Sigma = np.array([[ 1 , 3/5], [3/5,  2]])\n",
    "\n",
    "# Pack X and Y into a single 3-dimensional array\n",
    "pos = np.empty(X.shape + (2,))\n",
    "pos[:, :, 0] = X\n",
    "pos[:, :, 1] = Y\n",
    "\n",
    "def multivariate_gaussian(pos, mu, Sigma):\n",
    "    \"\"\"This function returns the bivariate Gaussian distribution on array pos.\n",
    "       pos is an array constructed by packing the meshed arrays of variables x and y into its last dimension.\n",
    "    \"\"\"\n",
    "\n",
    "    n = 2 # this is the dimension we are in\n",
    "    Sigma_det = np.linalg.det(Sigma)\n",
    "    Sigma_inv = np.linalg.inv(Sigma)\n",
    "    N = np.sqrt((2*np.pi)**n * Sigma_det) # this is the normalizing constant\n",
    "    # This einsum or Einstein sum calculates (x-mu)^T.Sigma^-1.(x-mu) in a vectorized\n",
    "    # way across all the input variables.\n",
    "    fac = np.einsum('...k,kl,...l->...', pos-mu, Sigma_inv, pos-mu)\n",
    "\n",
    "    return np.exp(-fac / 2) / N\n",
    "\n",
    "# The distribution on the variables X, Y packed into pos.\n",
    "Z = multivariate_gaussian(pos, mu, Sigma)\n",
    "\n",
    "# Create a surface plot\n",
    "fig = plt.figure(figsize=(9,9))\n",
    "picture = fig.gca(projection='3d')\n",
    "picture.plot_surface(X, Y, Z, cmap=cm.magma) \n",
    "# set labels for axes\n",
    "picture.set_xlabel('x')\n",
    "picture.set_ylabel('y')\n",
    "picture.set_zlabel('z=g(x,y)')\n",
    "# set image title\n",
    "picture.set_title('Bivariate Gaussian distribution')     "
   ]
  },
  {
   "cell_type": "markdown",
   "metadata": {
    "deletable": false,
    "editable": false,
    "nbgrader": {
     "cell_type": "markdown",
     "checksum": "89ac21626c9e7d981cbca15eecda7d11",
     "grade": false,
     "grade_id": "cell-54132a8d1eea960e",
     "locked": true,
     "schema_version": 3,
     "solution": false,
     "task": false
    }
   },
   "source": [
    "# Explain the above code line by line."
   ]
  },
  {
   "cell_type": "markdown",
   "metadata": {
    "deletable": false,
    "nbgrader": {
     "cell_type": "markdown",
     "checksum": "fe49cd0f358a60d97385702c73d5396d",
     "grade": true,
     "grade_id": "cell-60a10d07b86319c2",
     "locked": false,
     "points": 5,
     "schema_version": 3,
     "solution": true,
     "task": false
    }
   },
   "source": [
    "YOUR ANSWER HERE"
   ]
  },
  {
   "cell_type": "markdown",
   "metadata": {
    "deletable": false,
    "editable": false,
    "nbgrader": {
     "cell_type": "markdown",
     "checksum": "9ceb73add359f865a385524fb9975f89",
     "grade": false,
     "grade_id": "cell-c5ef4d6fd5d4bccb",
     "locked": true,
     "schema_version": 3,
     "solution": false,
     "task": false
    }
   },
   "source": [
    "# 4) Now let's sample n points $(x_i,y_i)$ from the bivariate Gaussian distribution and use seaborn library to plot the sampled points in the x-y plane. These should look like the shadow in the $x$-$y$ plane of the surface plot of $g(x,y)$ above.\n",
    "Read the following code then explain it line by line in the next cell."
   ]
  },
  {
   "cell_type": "code",
   "execution_count": null,
   "metadata": {
    "deletable": false,
    "editable": false,
    "nbgrader": {
     "cell_type": "code",
     "checksum": "5508fd31983b4d7629c86698ec70be6e",
     "grade": false,
     "grade_id": "cell-d45244afc716cd03",
     "locked": true,
     "schema_version": 3,
     "solution": false,
     "task": false
    }
   },
   "outputs": [],
   "source": [
    "import seaborn as sns\n",
    "\n",
    "# Simulate data from a bivariate Gaussian\n",
    "n = 6000\n",
    "mean = [0, 0]\n",
    "cov = [(1, 3/5), (3/5, 2)]\n",
    "x, y = np.random.multivariate_normal(mean, cov, n).T\n",
    "\n",
    "# Draw a scatterplot with density contours\n",
    "fig = plt.figure(figsize=(8,8))\n",
    "sns.scatterplot(x=x, y=y, s=6, color=\"r\")\n",
    "sns.kdeplot(x=x, y=y, levels=6, color=\"k\", linewidths=1.5)\n",
    "# set labels for axes\n",
    "plt.xlabel('x')\n",
    "plt.ylabel('y')\n",
    "# set image title\n",
    "plt.title('Scatterplot for {} points sampled from the gaussian bivariate distribution'.format(n))"
   ]
  },
  {
   "cell_type": "markdown",
   "metadata": {
    "deletable": false,
    "editable": false,
    "nbgrader": {
     "cell_type": "markdown",
     "checksum": "58909a1830f8f34da09a82f05a2014e0",
     "grade": false,
     "grade_id": "cell-d4e278395c3b49ff",
     "locked": true,
     "schema_version": 3,
     "solution": false,
     "task": false
    }
   },
   "source": [
    "# Explain the above code line by line."
   ]
  },
  {
   "cell_type": "markdown",
   "metadata": {
    "deletable": false,
    "nbgrader": {
     "cell_type": "markdown",
     "checksum": "43459dad38250ee61b99e77e5b20645c",
     "grade": true,
     "grade_id": "cell-de26526b48b532cf",
     "locked": false,
     "points": 5,
     "schema_version": 3,
     "solution": true,
     "task": false
    }
   },
   "source": [
    "YOUR ANSWER HERE"
   ]
  },
  {
   "cell_type": "markdown",
   "metadata": {
    "deletable": false,
    "editable": false,
    "nbgrader": {
     "cell_type": "markdown",
     "checksum": "a20f81437e8577804a3a899de15f652f",
     "grade": false,
     "grade_id": "cell-83b4bced886f8c3d",
     "locked": true,
     "schema_version": 3,
     "solution": false,
     "task": false
    }
   },
   "source": [
    "# 5) Create a class for a car dealership called cars. The objects belonging to the class should have 5 attributes: make, model, year, color, and VIN number. Then specify five instances belonging to this class, and call certain attributes for three of these instances. "
   ]
  },
  {
   "cell_type": "code",
   "execution_count": null,
   "metadata": {
    "deletable": false,
    "nbgrader": {
     "cell_type": "code",
     "checksum": "d7b07d8cb6ec01fa636ffd82942d4eb8",
     "grade": true,
     "grade_id": "cell-8673daa4bbcb0f10",
     "locked": false,
     "points": 5,
     "schema_version": 3,
     "solution": true,
     "task": false
    }
   },
   "outputs": [],
   "source": [
    "# YOUR CODE HERE\n",
    "raise NotImplementedError()"
   ]
  }
 ],
 "metadata": {
  "kernelspec": {
   "display_name": "Python 3",
   "language": "python",
   "name": "python3"
  },
  "language_info": {
   "codemirror_mode": {
    "name": "ipython",
    "version": 3
   },
   "file_extension": ".py",
   "mimetype": "text/x-python",
   "name": "python",
   "nbconvert_exporter": "python",
   "pygments_lexer": "ipython3",
   "version": "3.8.5"
  }
 },
 "nbformat": 4,
 "nbformat_minor": 4
}
