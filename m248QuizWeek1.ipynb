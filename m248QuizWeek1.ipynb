{
 "cells": [
  {
   "cell_type": "markdown",
   "metadata": {
    "deletable": false,
    "editable": false,
    "nbgrader": {
     "cell_type": "markdown",
     "checksum": "d66f62666908cf566a5ee85b1d944bb2",
     "grade": false,
     "grade_id": "cell-894b44f6e4aa6d89",
     "locked": true,
     "schema_version": 3,
     "solution": false,
     "task": false
    }
   },
   "source": [
    "## 1) What, in your opinion, was the most significant advancement in the history of computers? What would a next big leap be?"
   ]
  },
  {
   "cell_type": "markdown",
   "metadata": {
    "deletable": false,
    "nbgrader": {
     "cell_type": "markdown",
     "checksum": "674a04c7b9ac8bbe1af73ec37ad0d3c5",
     "grade": true,
     "grade_id": "cell-2b7b7a3717ed7c28",
     "locked": false,
     "points": 2,
     "schema_version": 3,
     "solution": true,
     "task": false
    }
   },
   "source": [
    "YOUR ANSWER HERE"
   ]
  },
  {
   "cell_type": "markdown",
   "metadata": {
    "deletable": false,
    "editable": false,
    "nbgrader": {
     "cell_type": "markdown",
     "checksum": "8e3bf45140907649499b67210f514da1",
     "grade": false,
     "grade_id": "cell-f8652ead18e4e4b4",
     "locked": true,
     "schema_version": 3,
     "solution": false,
     "task": false
    }
   },
   "source": [
    "## 2) Define: algorithm; high level language; bit."
   ]
  },
  {
   "cell_type": "markdown",
   "metadata": {
    "deletable": false,
    "nbgrader": {
     "cell_type": "markdown",
     "checksum": "1dd38b104ad5febe74015c3bd45824f9",
     "grade": true,
     "grade_id": "cell-b0950da5a192e035",
     "locked": false,
     "points": 3,
     "schema_version": 3,
     "solution": true,
     "task": false
    }
   },
   "source": [
    "YOUR ANSWER HERE"
   ]
  },
  {
   "cell_type": "markdown",
   "metadata": {
    "deletable": false,
    "editable": false,
    "nbgrader": {
     "cell_type": "markdown",
     "checksum": "f0e0f42bb6b6eac0b604b70dac8ee460",
     "grade": false,
     "grade_id": "cell-ecc04f9ad599a9e7",
     "locked": true,
     "schema_version": 3,
     "solution": false,
     "task": false
    }
   },
   "source": [
    "## 3) Programming: Write a program that lists all the multiples of 15 greater than −200 and less than 2000."
   ]
  },
  {
   "cell_type": "code",
   "execution_count": null,
   "metadata": {
    "deletable": false,
    "nbgrader": {
     "cell_type": "code",
     "checksum": "4f157195a349b8e9a0fb3e83ea02e0f6",
     "grade": false,
     "grade_id": "cell-640c6f13e30f6fbb",
     "locked": false,
     "schema_version": 3,
     "solution": true,
     "task": false
    }
   },
   "outputs": [],
   "source": [
    "# define an empty list object called list then append the list with multiples of 15. Be careful where you \n",
    "# start and where you stop.\n",
    "# YOUR CODE HERE\n",
    "raise NotImplementedError()"
   ]
  },
  {
   "cell_type": "code",
   "execution_count": null,
   "metadata": {
    "deletable": false,
    "editable": false,
    "nbgrader": {
     "cell_type": "code",
     "checksum": "2ffc389b45c66bfd26c2a11b3da2f329",
     "grade": true,
     "grade_id": "cell-70172c44c90ecb80",
     "locked": true,
     "points": 3,
     "schema_version": 3,
     "solution": false,
     "task": false
    }
   },
   "outputs": [],
   "source": [
    "from nose.tools import assert_equal\n",
    "assert_equal(list,[-195, -180, -165, -150, -135, -120, -105, -90, -75, -60, -45, -30, -15, 0, 15, 30, 45, 60, 75, 90, 105, 120, 135, 150, 165, 180, 195, 210, 225, 240, 255, 270, 285, 300, 315, 330, 345, 360, 375, 390, 405, 420, 435, 450, 465, 480, 495, 510, 525, 540, 555, 570, 585, 600, 615, 630, 645, 660, 675, 690, 705, 720, 735, 750, 765, 780, 795, 810, 825, 840, 855, 870, 885, 900, 915, 930, 945, 960, 975, 990, 1005, 1020, 1035, 1050, 1065, 1080, 1095, 1110, 1125, 1140, 1155, 1170, 1185, 1200, 1215, 1230, 1245, 1260, 1275, 1290, 1305, 1320, 1335, 1350, 1365, 1380, 1395, 1410, 1425, 1440, 1455, 1470, 1485, 1500, 1515, 1530, 1545, 1560, 1575, 1590, 1605, 1620, 1635, 1650, 1665, 1680, 1695, 1710, 1725, 1740, 1755, 1770, 1785, 1800, 1815, 1830, 1845, 1860, 1875, 1890, 1905, 1920, 1935, 1950, 1965, 1980, 1995])"
   ]
  },
  {
   "cell_type": "markdown",
   "metadata": {
    "deletable": false,
    "editable": false,
    "nbgrader": {
     "cell_type": "markdown",
     "checksum": "0352d6b66511e036b0cb2905f6273c77",
     "grade": false,
     "grade_id": "cell-b357592096b88921",
     "locked": true,
     "schema_version": 3,
     "solution": false,
     "task": false
    }
   },
   "source": [
    "## 􏰀4) Programming: Write a program that calculates the sum\n",
    "$$\\sum_{k=-100}^{75}\\frac{k^3-2k}{k^2+2}$$\n",
    "## Can this sum be computed analytically?"
   ]
  },
  {
   "cell_type": "code",
   "execution_count": null,
   "metadata": {
    "deletable": false,
    "nbgrader": {
     "cell_type": "code",
     "checksum": "b58f3e804b5af64b883678b1d5e184a5",
     "grade": false,
     "grade_id": "cell-294356bd9b3e974b",
     "locked": false,
     "schema_version": 3,
     "solution": true,
     "task": false
    }
   },
   "outputs": [],
   "source": [
    "# define a function that contains your formula called f, then define a sum=0, then define\n",
    "# a loop that adds f(k) onto your sum. Check the range of your loop\n",
    "# YOUR CODE HERE\n",
    "raise NotImplementedError()"
   ]
  },
  {
   "cell_type": "code",
   "execution_count": null,
   "metadata": {
    "deletable": false,
    "editable": false,
    "nbgrader": {
     "cell_type": "code",
     "checksum": "f05cf04d53debdcc6fd0e39296f9c3a0",
     "grade": true,
     "grade_id": "cell-87d41668f23b9a81",
     "locked": true,
     "points": 3,
     "schema_version": 3,
     "solution": false,
     "task": false
    }
   },
   "outputs": [],
   "source": [
    "assert_equal(sum,-2198.856218040634)"
   ]
  },
  {
   "cell_type": "markdown",
   "metadata": {
    "deletable": false,
    "editable": false,
    "nbgrader": {
     "cell_type": "markdown",
     "checksum": "35f8268182ab0a7cf030d6689ea58a12",
     "grade": false,
     "grade_id": "cell-66c1f9def8fc5cb5",
     "locked": true,
     "schema_version": 3,
     "solution": false,
     "task": false
    }
   },
   "source": [
    "## 5) Programming: Write a program that determines whether the sequence \n",
    "$$a_n=\\frac{(\\cos(n))^2}{2^n}$$\n",
    "## converges or diverges. Make a plot and describe the behavior."
   ]
  },
  {
   "cell_type": "code",
   "execution_count": null,
   "metadata": {
    "deletable": false,
    "nbgrader": {
     "cell_type": "code",
     "checksum": "f68d18d1cfa8c9084048155fe5c2500c",
     "grade": false,
     "grade_id": "cell-17b78fde82a13eb6",
     "locked": false,
     "schema_version": 3,
     "solution": true,
     "task": false
    }
   },
   "outputs": [],
   "source": [
    "# Define a function called a that contains your function formula. You need numpy library\n",
    "# in order to use the cosine function numpy.cos()\n",
    "# initiate an empty list object called list. Append it with a(n) for n=1 to 50\n",
    "# finally plot your result\n",
    "import numpy\n",
    "import matplotlib.pyplot as plt\n",
    "# YOUR CODE HERE\n",
    "raise NotImplementedError()\n",
    "# once you are done, print a description of the type of behavior of your sequence, \n",
    "# for example\n",
    "print(\"This sequence converges to zero, or this sequence diverges to infinity, or there\\\n",
    "    are two subsequential limits, etc.\")"
   ]
  },
  {
   "cell_type": "code",
   "execution_count": null,
   "metadata": {
    "deletable": false,
    "editable": false,
    "nbgrader": {
     "cell_type": "code",
     "checksum": "947cfce02393f97ad16474e59232a814",
     "grade": true,
     "grade_id": "cell-e21ace443233c287",
     "locked": true,
     "points": 3,
     "schema_version": 3,
     "solution": false,
     "task": false
    }
   },
   "outputs": [],
   "source": [
    "assert_equal(a(50),8.270357164830974e-16)"
   ]
  }
 ],
 "metadata": {
  "kernelspec": {
   "display_name": "Python 3",
   "language": "python",
   "name": "python3"
  },
  "language_info": {
   "codemirror_mode": {
    "name": "ipython",
    "version": 3
   },
   "file_extension": ".py",
   "mimetype": "text/x-python",
   "name": "python",
   "nbconvert_exporter": "python",
   "pygments_lexer": "ipython3",
   "version": "3.8.5"
  }
 },
 "nbformat": 4,
 "nbformat_minor": 4
}
